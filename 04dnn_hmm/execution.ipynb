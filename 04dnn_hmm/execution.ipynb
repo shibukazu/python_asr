{
 "cells": [
  {
   "cell_type": "code",
   "execution_count": 1,
   "metadata": {},
   "outputs": [
    {
     "ename": "ModuleNotFoundError",
     "evalue": "No module named 'hmmfunc'",
     "output_type": "error",
     "traceback": [
      "\u001b[0;31m---------------------------------------------------------------------------\u001b[0m",
      "\u001b[0;31mModuleNotFoundError\u001b[0m                       Traceback (most recent call last)",
      "\u001b[1;32m/Users/shibu/Workspace/Text/python_asr/04dnn_hmm/execution.ipynb Cell 1'\u001b[0m in \u001b[0;36m<cell line: 1>\u001b[0;34m()\u001b[0m\n\u001b[0;32m----> <a href='vscode-notebook-cell:/Users/shibu/Workspace/Text/python_asr/04dnn_hmm/execution.ipynb#ch0000000?line=0'>1</a>\u001b[0m \u001b[39mfrom\u001b[39;00m \u001b[39mhmmfunc\u001b[39;00m \u001b[39mimport\u001b[39;00m MonoPhoneHMM\n\u001b[1;32m      <a href='vscode-notebook-cell:/Users/shibu/Workspace/Text/python_asr/04dnn_hmm/execution.ipynb#ch0000000?line=1'>2</a>\u001b[0m \u001b[39mimport\u001b[39;00m \u001b[39mos\u001b[39;00m\n\u001b[1;32m      <a href='vscode-notebook-cell:/Users/shibu/Workspace/Text/python_asr/04dnn_hmm/execution.ipynb#ch0000000?line=2'>3</a>\u001b[0m \u001b[39mimport\u001b[39;00m \u001b[39mnumpy\u001b[39;00m \u001b[39mas\u001b[39;00m \u001b[39mnp\u001b[39;00m\n",
      "\u001b[0;31mModuleNotFoundError\u001b[0m: No module named 'hmmfunc'"
     ]
    }
   ],
   "source": [
    "from hmmfunc import MonoPhoneHMM\n",
    "import os\n",
    "import numpy as np"
   ]
  },
  {
   "cell_type": "code",
   "execution_count": 2,
   "metadata": {},
   "outputs": [],
   "source": [
    "hmm_file = \"../03gmm_hmm/exp/model_3state_2mix/10.hmm\"\n",
    "feat_scp = \"../01compute_features/mfcc/train_small/feats.scp\"\n",
    "label_file = \"../03gmm_hmm/exp/data/train_small/text_int\"\n",
    "align_file = \"./exp/data/train_small/alignment\""
   ]
  },
  {
   "cell_type": "code",
   "execution_count": 10,
   "metadata": {},
   "outputs": [],
   "source": [
    "class MonoPhoneHMM2(MonoPhoneHMM):\n",
    "    def __init__(self):\n",
    "        super().__init__()\n",
    "    \n",
    "    def state_alignment2(self, feat, label):\n",
    "        self.calc_out_prob(feat, label)\n",
    "        self.viterbi_decoding(label)\n",
    "        viterbi_path = self.back_track()\n",
    "        state_alignment = []\n",
    "        for vp in viterbi_path:\n",
    "            l = vp[0]\n",
    "            p = label[l]\n",
    "            s = vp[1]\n",
    "            state = p * self.num_states + s\n",
    "            state_alignment.append(state)\n",
    "        return state_alignment"
   ]
  },
  {
   "cell_type": "code",
   "execution_count": 12,
   "metadata": {},
   "outputs": [],
   "source": [
    "hmm = MonoPhoneHMM2()\n",
    "hmm.load_hmm(hmm_file)"
   ]
  },
  {
   "cell_type": "code",
   "execution_count": 13,
   "metadata": {},
   "outputs": [],
   "source": [
    "out_dir = os.path.dirname(align_file)\n",
    "os.makedirs(out_dir, exist_ok=True)"
   ]
  },
  {
   "cell_type": "code",
   "execution_count": 14,
   "metadata": {},
   "outputs": [],
   "source": [
    "label_list = {}\n",
    "with open(label_file, mode=\"r\") as f:\n",
    "    for line in f:\n",
    "        utt = line.split()[0]\n",
    "        lab = line.split()[1:]\n",
    "        lab = np.int64(lab)\n",
    "        label_list[utt] = lab"
   ]
  },
  {
   "cell_type": "code",
   "execution_count": 15,
   "metadata": {},
   "outputs": [],
   "source": [
    "with open(align_file, mode=\"w\") as fa, open(feat_scp, mode=\"r\") as fs:\n",
    "    for line in fs:\n",
    "        utt = line.split()[0]\n",
    "        feat_file = line.split()[1]\n",
    "\n",
    "        label = label_list[utt]\n",
    "        feat = np.fromfile(feat_file, dtype=np.float32)\n",
    "        # フレームバッチの形に変換\n",
    "        feat = feat.reshape(-1, hmm.num_dims)\n",
    "\n",
    "        alignment = hmm.state_alignment2(feat, label)\n",
    "        # map: alignment内の各数値をstr型に変換\n",
    "        alignment = \" \".join(map(str, alignment))\n",
    "        fa.write(f\"{utt} {alignment}\\n\")\n",
    "\n",
    "\n"
   ]
  },
  {
   "cell_type": "code",
   "execution_count": null,
   "metadata": {},
   "outputs": [],
   "source": []
  }
 ],
 "metadata": {
  "interpreter": {
   "hash": "13995fe05de11737e99590d809173d5e7618c22417d2b9ef735272409e7551d1"
  },
  "kernelspec": {
   "display_name": "Python 3 (ipykernel)",
   "language": "python",
   "name": "python3"
  },
  "language_info": {
   "codemirror_mode": {
    "name": "ipython",
    "version": 3
   },
   "file_extension": ".py",
   "mimetype": "text/x-python",
   "name": "python",
   "nbconvert_exporter": "python",
   "pygments_lexer": "ipython3",
   "version": "3.9.0"
  },
  "orig_nbformat": 4
 },
 "nbformat": 4,
 "nbformat_minor": 2
}
